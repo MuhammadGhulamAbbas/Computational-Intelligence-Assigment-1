{
 "cells": [
  {
   "cell_type": "code",
   "execution_count": null,
   "id": "29b15bb1-7f18-4f89-a108-bdcc4c5b9487",
   "metadata": {},
   "outputs": [],
   "source": []
  }
 ],
 "metadata": {
  "kernelspec": {
   "display_name": "",
   "name": ""
  },
  "language_info": {
   "name": ""
  }
 },
 "nbformat": 4,
 "nbformat_minor": 5
}
